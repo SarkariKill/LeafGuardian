{
 "cells": [
  {
   "cell_type": "markdown",
   "id": "32508fb8-4448-4f9e-98fe-6848ff92f21c",
   "metadata": {},
   "source": [
    "## First we are going to import all the libraries"
   ]
  },
  {
   "cell_type": "code",
   "execution_count": 89,
   "id": "fb7cde8a-b97d-4bc8-b137-b77afa497a67",
   "metadata": {},
   "outputs": [],
   "source": [
    "import tensorflow as tf\n",
    "import pandas as pd\n",
    "import matplotlib.pyplot as plt\n"
   ]
  },
  {
   "cell_type": "markdown",
   "id": "0f42acfc-17bf-44c0-bbe6-27c1c117fb79",
   "metadata": {},
   "source": [
    "## Now we are going to preprocess the data"
   ]
  },
  {
   "cell_type": "markdown",
   "id": "5ec1bb36-9c03-4512-b9de-5475884fff5b",
   "metadata": {},
   "source": [
    "### Training Image Preprocessing (Train Data)"
   ]
  },
  {
   "cell_type": "code",
   "execution_count": 90,
   "id": "7dc71581-c384-4812-a133-c0624a93e6b1",
   "metadata": {},
   "outputs": [
    {
     "name": "stdout",
     "output_type": "stream",
     "text": [
      "Found 70295 files belonging to 38 classes.\n"
     ]
    }
   ],
   "source": [
    "# The below code we have copied from keras library\n",
    "# We are going to use tf in front of keras as it's part of keras\n",
    "training_set = tf.keras.utils.image_dataset_from_directory(\n",
    "    'train',\n",
    "    labels=\"inferred\",\n",
    "    label_mode=\"categorical\",\n",
    "    class_names=None,\n",
    "    color_mode=\"rgb\",\n",
    "    batch_size=32,\n",
    "    image_size=(128, 128),\n",
    "    shuffle=True,\n",
    "    seed=None,\n",
    "    validation_split=None,\n",
    "    subset=None,\n",
    "    interpolation=\"bilinear\",\n",
    "    follow_links=False,\n",
    "    crop_to_aspect_ratio=False,\n",
    ")"
   ]
  },
  {
   "cell_type": "markdown",
   "id": "655c953b-f031-4798-aac8-002f6fa83e5e",
   "metadata": {},
   "source": [
    "### Training Image Preprocessing (Validation Data)"
   ]
  },
  {
   "cell_type": "code",
   "execution_count": 91,
   "id": "34c9ae2a-e5f9-447b-aef1-891ba47de3b6",
   "metadata": {},
   "outputs": [
    {
     "name": "stdout",
     "output_type": "stream",
     "text": [
      "Found 17572 files belonging to 38 classes.\n"
     ]
    }
   ],
   "source": [
    "# The below code we have copied from keras library\n",
    "# We are going use tf infront of keras  as it's part of keras\n",
    "validation_set = tf.keras.utils.image_dataset_from_directory(\n",
    "    'valid',\n",
    "    labels=\"inferred\",\n",
    "    label_mode=\"categorical\",\n",
    "    class_names=None,\n",
    "    color_mode=\"rgb\",\n",
    "    batch_size=32,\n",
    "    image_size=(128, 128),\n",
    "    shuffle=True,\n",
    "    seed=None,\n",
    "    validation_split=None,\n",
    "    subset=None,\n",
    "    interpolation=\"bilinear\",\n",
    "    follow_links=False,\n",
    "    crop_to_aspect_ratio=False,\n",
    ")"
   ]
  },
  {
   "cell_type": "code",
   "execution_count": 92,
   "id": "75a2403f-1b4a-4763-b8a6-94d98f1d64d9",
   "metadata": {},
   "outputs": [
    {
     "data": {
      "text/plain": [
       "<_BatchDataset element_spec=(TensorSpec(shape=(None, 128, 128, 3), dtype=tf.float32, name=None), TensorSpec(shape=(None, 38), dtype=tf.float32, name=None))>"
      ]
     },
     "execution_count": 92,
     "metadata": {},
     "output_type": "execute_result"
    }
   ],
   "source": [
    "training_set"
   ]
  },
  {
   "cell_type": "code",
   "execution_count": 93,
   "id": "69e5d5e9-67e8-403d-beac-bbffea31d40d",
   "metadata": {},
   "outputs": [
    {
     "data": {
      "text/plain": [
       "<_BatchDataset element_spec=(TensorSpec(shape=(None, 128, 128, 3), dtype=tf.float32, name=None), TensorSpec(shape=(None, 38), dtype=tf.float32, name=None))>"
      ]
     },
     "execution_count": 93,
     "metadata": {},
     "output_type": "execute_result"
    }
   ],
   "source": [
    "validation_set"
   ]
  },
  {
   "cell_type": "markdown",
   "id": "3d04983b",
   "metadata": {},
   "source": [
    "### To avoid Overshooting\n",
    "1. First of all choose small learning rate as default is 0.001 for our case we are taking 0.0001\n",
    "2. There may be chance of underfitting so we can inccrease the  number of neurons & we can also\n",
    "   add more convulational layer.\n",
    "3. To avoid overfitting we can drop some neurons at end"
   ]
  },
  {
   "cell_type": "markdown",
   "id": "cc5fb329-806e-4205-aeab-b89cbcc4c2d6",
   "metadata": {},
   "source": [
    "## Now We Are Going To Build Model\n"
   ]
  },
  {
   "cell_type": "code",
   "execution_count": 94,
   "id": "0d10e64c-b298-4e5c-90f9-d249394570dc",
   "metadata": {},
   "outputs": [],
   "source": [
    "\n",
    "# Now we are going to build convulational layer\n",
    "from tensorflow.keras.models import Sequential\n",
    "from tensorflow.keras.layers import Conv2D, MaxPool2D, Dropout\n",
    "\n",
    "# Define the model\n",
    "model = Sequential()\n"
   ]
  },
  {
   "cell_type": "markdown",
   "id": "0bbd4b91-0c81-4fd7-898e-4954005a3698",
   "metadata": {},
   "source": [
    "### Now we are going to build convulational and pooling layers"
   ]
  },
  {
   "cell_type": "code",
   "execution_count": 95,
   "id": "e35cf6fd-e615-4b7d-ae1c-740f996e8818",
   "metadata": {},
   "outputs": [],
   "source": [
    "# First Convulational Layer\n",
    "# Add Conv2D layers  (Adding Convulational Layer)\n",
    "# Here 32 shows that we are making 32 filter to get 32 activation feature map\n",
    "model.add(Conv2D(32, kernel_size=3, padding='same', activation='relu',input_shape = [128,128,3]))\n",
    "model.add(Conv2D(32, kernel_size=3, activation='relu'))\n",
    "\n",
    "# Add MaxPool2D layer (Adding Pooling Layer)\n",
    "model.add(MaxPool2D(pool_size=2, strides=2))\n"
   ]
  },
  {
   "cell_type": "code",
   "execution_count": 96,
   "id": "da7725b9-6aab-498b-9785-4d8bdf2ead81",
   "metadata": {},
   "outputs": [],
   "source": [
    "# Second Convulational Layer\n",
    "model.add(Conv2D(64, kernel_size=3, padding='same', activation='relu'))\n",
    "model.add(Conv2D(64, kernel_size=3, activation='relu'))\n",
    "\n",
    "# Add MaxPool2D layer (Adding Pooling Layer)\n",
    "model.add(MaxPool2D(pool_size=2, strides=2))\n"
   ]
  },
  {
   "cell_type": "code",
   "execution_count": 97,
   "id": "005951f6",
   "metadata": {},
   "outputs": [],
   "source": [
    "# Third Convulational Layer\n",
    "model.add(Conv2D(128, kernel_size=3, padding='same', activation='relu'))\n",
    "model.add(Conv2D(128, kernel_size=3, activation='relu'))\n",
    "\n",
    "# Add MaxPool2D layer (Adding Pooling Layer)\n",
    "model.add(MaxPool2D(pool_size=2, strides=2))\n"
   ]
  },
  {
   "cell_type": "code",
   "execution_count": 98,
   "id": "a28550d2-7cae-494f-96fa-3c8d3b61cc1d",
   "metadata": {},
   "outputs": [],
   "source": [
    "# Forth Convulational Layer\n",
    "model.add(Conv2D(256, kernel_size=3, padding='same', activation='relu'))\n",
    "model.add(Conv2D(256, kernel_size=3, activation='relu'))\n",
    "\n",
    "# Add MaxPool2D layer (Adding Pooling Layer)\n",
    "model.add(MaxPool2D(pool_size=2, strides=2))\n"
   ]
  },
  {
   "cell_type": "code",
   "execution_count": 99,
   "id": "1e1b1ba0",
   "metadata": {},
   "outputs": [],
   "source": [
    "# Fifth Convulational Layer\n",
    "model.add(Conv2D(512, kernel_size=3, padding='same', activation='relu'))\n",
    "model.add(Conv2D(512, kernel_size=3, activation='relu'))\n",
    "\n",
    "# Add MaxPool2D layer (Adding Pooling Layer)\n",
    "model.add(MaxPool2D(pool_size=2, strides=2))"
   ]
  },
  {
   "cell_type": "code",
   "execution_count": 100,
   "id": "e20a04f9",
   "metadata": {},
   "outputs": [],
   "source": [
    "# Now we are going to drop some neurons\n",
    "model.add(Dropout(0.25))  # To avoid Overfitting \n"
   ]
  },
  {
   "cell_type": "markdown",
   "id": "383ec85a-cf81-4ef6-a14a-7f46de7789fc",
   "metadata": {},
   "source": [
    "## Now we have to flatten our output and feed to Neural Network"
   ]
  },
  {
   "cell_type": "code",
   "execution_count": 101,
   "id": "82bd214f-4605-4171-8ae8-0eb20f603fcd",
   "metadata": {},
   "outputs": [],
   "source": [
    "from tensorflow.keras.layers import Flatten, Dense\n",
    "\n",
    "# Add a Flatten layer to flatten the output of the pooling layer\n",
    "model.add(Flatten())\n",
    "\n",
    "# Add a Dense layer\n",
    "# Here 1024 shows number of neurons we are taking\n",
    "model.add(Dense(1500, activation='relu'))\n"
   ]
  },
  {
   "cell_type": "code",
   "execution_count": 102,
   "id": "6fd775ea",
   "metadata": {},
   "outputs": [],
   "source": [
    "# Now we are going to drop some neurons\n",
    "model.add(Dropout(0.40))"
   ]
  },
  {
   "cell_type": "code",
   "execution_count": 103,
   "id": "18ea0ea6-b450-4e2f-8eaf-0036b298b294",
   "metadata": {},
   "outputs": [],
   "source": [
    "# Output Layer\n",
    "# Add the output layer for classification with 38 classes\n",
    "model.add(Dense(38, activation='softmax'))"
   ]
  },
  {
   "cell_type": "markdown",
   "id": "075c31d4-4168-4c65-a1be-8f14b6d90cda",
   "metadata": {},
   "source": [
    "### Now we are going to Compile our model"
   ]
  },
  {
   "cell_type": "code",
   "execution_count": 104,
   "id": "64c644e5-6ca6-42bc-83c9-9eea64b368e4",
   "metadata": {},
   "outputs": [],
   "source": [
    "\n",
    "# Compile the model\n",
    "model.compile(loss='categorical_crossentropy', optimizer=tf.keras.optimizers.legacy.Adam(\n",
    "    learning_rate=0.0001), metrics=['accuracy'])"
   ]
  },
  {
   "cell_type": "code",
   "execution_count": 105,
   "id": "38dd65e6",
   "metadata": {},
   "outputs": [
    {
     "data": {
      "text/plain": [
       "\"\\nfrom tensorflow.keras.models import Sequential\\nfrom tensorflow.keras.layers import Conv2D, MaxPool2D, Dropout, Flatten, Dense\\n\\n# Define the model\\nmodel = Sequential()\\n\\n# First Convolutional Layer\\nmodel.add(Conv2D(32, kernel_size=3, padding='same', activation='relu', input_shape=[128, 128, 3]))\\nmodel.add(Conv2D(32, kernel_size=3, activation='relu'))\\n\\n# First MaxPool2D layer\\nmodel.add(MaxPool2D(pool_size=2, strides=2))\\n\\n# Second Convolutional Layer\\nmodel.add(Conv2D(64, kernel_size=3, padding='same', activation='relu'))\\nmodel.add(Conv2D(64, kernel_size=3, activation='relu'))\\n\\n# Second MaxPool2D layer\\nmodel.add(MaxPool2D(pool_size=2, strides=2))\\n\\n# Third Convolutional Layer\\nmodel.add(Conv2D(128, kernel_size=3, padding='same', activation='relu'))\\nmodel.add(Conv2D(128, kernel_size=3, activation='relu'))\\n\\n# Third MaxPool2D layer\\nmodel.add(MaxPool2D(pool_size=2, strides=2))\\n\\n# Fourth Convolutional Layer\\nmodel.add(Conv2D(256, kernel_size=3, padding='same', activation='relu'))\\nmodel.add(Conv2D(256, kernel_size=3, activation='relu'))\\n\\n# Fourth MaxPool2D layer\\nmodel.add(MaxPool2D(pool_size=2, strides=2))\\n\\n# Fifth Convolutional Layer\\nmodel.add(Conv2D(512, kernel_size=3, padding='same', activation='relu'))\\nmodel.add(Conv2D(512, kernel_size=3, activation='relu'))\\n\\n# Fourth MaxPool2D layer\\nmodel.add(MaxPool2D(pool_size=2, strides=2))\\n\\n# Dropout layer\\nmodel.add(Dropout(0.25))\\n\\n# Flatten layer\\nmodel.add(Flatten())\\n\\n# Dense layer\\nmodel.add(Dense(1500, activation='relu'))\\n\\n# Dropout layer\\nmodel.add(Dropout(0.40))\\n\\n# Output layer\\nmodel.add(Dense(38, activation='softmax'))\\n\\n# Compile the model\\nmodel.compile(loss='categorical_crossentropy', optimizer='adam', metrics=['accuracy'])\\n\\n# Model summary\\nmodel.summary()\\n\""
      ]
     },
     "execution_count": 105,
     "metadata": {},
     "output_type": "execute_result"
    }
   ],
   "source": [
    "\"\"\"\n",
    "from tensorflow.keras.models import Sequential\n",
    "from tensorflow.keras.layers import Conv2D, MaxPool2D, Dropout, Flatten, Dense\n",
    "\n",
    "# Define the model\n",
    "model = Sequential()\n",
    "\n",
    "# First Convolutional Layer\n",
    "model.add(Conv2D(32, kernel_size=3, padding='same', activation='relu', input_shape=[128, 128, 3]))\n",
    "model.add(Conv2D(32, kernel_size=3, activation='relu'))\n",
    "\n",
    "# First MaxPool2D layer\n",
    "model.add(MaxPool2D(pool_size=2, strides=2))\n",
    "\n",
    "# Second Convolutional Layer\n",
    "model.add(Conv2D(64, kernel_size=3, padding='same', activation='relu'))\n",
    "model.add(Conv2D(64, kernel_size=3, activation='relu'))\n",
    "\n",
    "# Second MaxPool2D layer\n",
    "model.add(MaxPool2D(pool_size=2, strides=2))\n",
    "\n",
    "# Third Convolutional Layer\n",
    "model.add(Conv2D(128, kernel_size=3, padding='same', activation='relu'))\n",
    "model.add(Conv2D(128, kernel_size=3, activation='relu'))\n",
    "\n",
    "# Third MaxPool2D layer\n",
    "model.add(MaxPool2D(pool_size=2, strides=2))\n",
    "\n",
    "# Fourth Convolutional Layer\n",
    "model.add(Conv2D(256, kernel_size=3, padding='same', activation='relu'))\n",
    "model.add(Conv2D(256, kernel_size=3, activation='relu'))\n",
    "\n",
    "# Fourth MaxPool2D layer\n",
    "model.add(MaxPool2D(pool_size=2, strides=2))\n",
    "\n",
    "# Fifth Convolutional Layer\n",
    "model.add(Conv2D(512, kernel_size=3, padding='same', activation='relu'))\n",
    "model.add(Conv2D(512, kernel_size=3, activation='relu'))\n",
    "\n",
    "# Fourth MaxPool2D layer\n",
    "model.add(MaxPool2D(pool_size=2, strides=2))\n",
    "\n",
    "# Dropout layer\n",
    "model.add(Dropout(0.25))\n",
    "\n",
    "# Flatten layer\n",
    "model.add(Flatten())\n",
    "\n",
    "# Dense layer\n",
    "model.add(Dense(1500, activation='relu'))\n",
    "\n",
    "# Dropout layer\n",
    "model.add(Dropout(0.40))\n",
    "\n",
    "# Output layer\n",
    "model.add(Dense(38, activation='softmax'))\n",
    "\n",
    "# Compile the model\n",
    "model.compile(loss='categorical_crossentropy', optimizer='adam', metrics=['accuracy'])\n",
    "\n",
    "# Model summary\n",
    "model.summary()\n",
    "\"\"\""
   ]
  },
  {
   "cell_type": "code",
   "execution_count": 106,
   "id": "a66ef496-f58b-4507-a72d-3f59fd3b2a5b",
   "metadata": {},
   "outputs": [
    {
     "name": "stdout",
     "output_type": "stream",
     "text": [
      "Model: \"sequential_7\"\n",
      "_________________________________________________________________\n",
      " Layer (type)                Output Shape              Param #   \n",
      "=================================================================\n",
      " conv2d_66 (Conv2D)          (None, 128, 128, 32)      896       \n",
      "                                                                 \n",
      " conv2d_67 (Conv2D)          (None, 126, 126, 32)      9248      \n",
      "                                                                 \n",
      " max_pooling2d_30 (MaxPooli  (None, 63, 63, 32)        0         \n",
      " ng2D)                                                           \n",
      "                                                                 \n",
      " conv2d_68 (Conv2D)          (None, 63, 63, 64)        18496     \n",
      "                                                                 \n",
      " conv2d_69 (Conv2D)          (None, 61, 61, 64)        36928     \n",
      "                                                                 \n",
      " max_pooling2d_31 (MaxPooli  (None, 30, 30, 64)        0         \n",
      " ng2D)                                                           \n",
      "                                                                 \n",
      " conv2d_70 (Conv2D)          (None, 30, 30, 128)       73856     \n",
      "                                                                 \n",
      " conv2d_71 (Conv2D)          (None, 28, 28, 128)       147584    \n",
      "                                                                 \n",
      " max_pooling2d_32 (MaxPooli  (None, 14, 14, 128)       0         \n",
      " ng2D)                                                           \n",
      "                                                                 \n",
      " conv2d_72 (Conv2D)          (None, 14, 14, 256)       295168    \n",
      "                                                                 \n",
      " conv2d_73 (Conv2D)          (None, 12, 12, 256)       590080    \n",
      "                                                                 \n",
      " max_pooling2d_33 (MaxPooli  (None, 6, 6, 256)         0         \n",
      " ng2D)                                                           \n",
      "                                                                 \n",
      " conv2d_74 (Conv2D)          (None, 6, 6, 512)         1180160   \n",
      "                                                                 \n",
      " conv2d_75 (Conv2D)          (None, 4, 4, 512)         2359808   \n",
      "                                                                 \n",
      " max_pooling2d_34 (MaxPooli  (None, 2, 2, 512)         0         \n",
      " ng2D)                                                           \n",
      "                                                                 \n",
      " dropout_9 (Dropout)         (None, 2, 2, 512)         0         \n",
      "                                                                 \n",
      " flatten_7 (Flatten)         (None, 2048)              0         \n",
      "                                                                 \n",
      " dense_12 (Dense)            (None, 1500)              3073500   \n",
      "                                                                 \n",
      " dropout_10 (Dropout)        (None, 1500)              0         \n",
      "                                                                 \n",
      " dense_13 (Dense)            (None, 38)                57038     \n",
      "                                                                 \n",
      "=================================================================\n",
      "Total params: 7842762 (29.92 MB)\n",
      "Trainable params: 7842762 (29.92 MB)\n",
      "Non-trainable params: 0 (0.00 Byte)\n",
      "_________________________________________________________________\n"
     ]
    }
   ],
   "source": [
    "model.summary()"
   ]
  },
  {
   "cell_type": "markdown",
   "id": "23e08d22",
   "metadata": {},
   "source": [
    "### Now we are going to Train Our Model"
   ]
  },
  {
   "cell_type": "code",
   "execution_count": 107,
   "id": "3d1a3e9b-cec3-4903-87eb-d1a0a6118b39",
   "metadata": {},
   "outputs": [
    {
     "name": "stdout",
     "output_type": "stream",
     "text": [
      "Epoch 1/10\n"
     ]
    },
    {
     "name": "stderr",
     "output_type": "stream",
     "text": [
      "2024-06-27 19:24:23.688901: I tensorflow/core/grappler/optimizers/custom_graph_optimizer_registry.cc:114] Plugin optimizer for device_type GPU is enabled.\n"
     ]
    },
    {
     "name": "stdout",
     "output_type": "stream",
     "text": [
      "2197/2197 [==============================] - ETA: 0s - loss: 1.4943 - accuracy: 0.5637"
     ]
    },
    {
     "name": "stderr",
     "output_type": "stream",
     "text": [
      "2024-06-27 19:30:17.791399: I tensorflow/core/grappler/optimizers/custom_graph_optimizer_registry.cc:114] Plugin optimizer for device_type GPU is enabled.\n"
     ]
    },
    {
     "name": "stdout",
     "output_type": "stream",
     "text": [
      "2197/2197 [==============================] - 382s 174ms/step - loss: 1.4943 - accuracy: 0.5637 - val_loss: 0.5722 - val_accuracy: 0.8153\n",
      "Epoch 2/10\n",
      "2197/2197 [==============================] - 449s 204ms/step - loss: 0.5084 - accuracy: 0.8427 - val_loss: 0.4550 - val_accuracy: 0.8521\n",
      "Epoch 3/10\n",
      "2197/2197 [==============================] - 431s 196ms/step - loss: 0.3342 - accuracy: 0.8949 - val_loss: 0.2823 - val_accuracy: 0.9128\n",
      "Epoch 4/10\n",
      "2197/2197 [==============================] - 431s 196ms/step - loss: 0.2403 - accuracy: 0.9266 - val_loss: 0.2223 - val_accuracy: 0.9307\n",
      "Epoch 5/10\n",
      "2197/2197 [==============================] - 450s 205ms/step - loss: 0.1990 - accuracy: 0.9376 - val_loss: 0.1962 - val_accuracy: 0.9377\n",
      "Epoch 6/10\n",
      "2197/2197 [==============================] - 439s 200ms/step - loss: 0.1629 - accuracy: 0.9508 - val_loss: 0.2305 - val_accuracy: 0.9333\n",
      "Epoch 7/10\n",
      "2197/2197 [==============================] - 481s 219ms/step - loss: 0.1321 - accuracy: 0.9603 - val_loss: 0.1910 - val_accuracy: 0.9464\n",
      "Epoch 8/10\n",
      "2197/2197 [==============================] - 525s 239ms/step - loss: 0.1230 - accuracy: 0.9637 - val_loss: 0.1848 - val_accuracy: 0.9490\n",
      "Epoch 9/10\n",
      "2197/2197 [==============================] - 470s 214ms/step - loss: 0.1145 - accuracy: 0.9668 - val_loss: 0.2043 - val_accuracy: 0.9467\n",
      "Epoch 10/10\n",
      "2197/2197 [==============================] - 467s 213ms/step - loss: 0.1011 - accuracy: 0.9726 - val_loss: 0.1739 - val_accuracy: 0.9569\n"
     ]
    }
   ],
   "source": [
    "# Train the model\n",
    "training_histroy = model.fit(x = training_set,validation_data = validation_set,epochs=10)"
   ]
  },
  {
   "cell_type": "markdown",
   "id": "ce981ef4-5948-4d9f-8ca4-44660bfbfb7a",
   "metadata": {},
   "source": [
    "### Now we are going to Evaluate our Model"
   ]
  },
  {
   "cell_type": "code",
   "execution_count": 108,
   "id": "c27d930b-834a-4e22-ba8e-50bbefca3c6b",
   "metadata": {},
   "outputs": [
    {
     "name": "stdout",
     "output_type": "stream",
     "text": [
      "2197/2197 [==============================] - 79s 35ms/step - loss: 0.0494 - accuracy: 0.9843\n"
     ]
    }
   ],
   "source": [
    "# Model Evaluation on Traing Set\n",
    "train_loss,train_accuracy = model.evaluate(training_set)"
   ]
  },
  {
   "cell_type": "code",
   "execution_count": 110,
   "id": "ca2f3c6d",
   "metadata": {},
   "outputs": [
    {
     "name": "stdout",
     "output_type": "stream",
     "text": [
      "550/550 [==============================] - 21s 37ms/step - loss: 0.1739 - accuracy: 0.9569\n"
     ]
    }
   ],
   "source": [
    "val_loss,val_accuracy = model.evaluate(validation_set)"
   ]
  },
  {
   "cell_type": "markdown",
   "id": "c4b78d2d",
   "metadata": {},
   "source": [
    "## Now we are going to save our Model because every time training will take a lot of time"
   ]
  },
  {
   "cell_type": "code",
   "execution_count": 144,
   "id": "5122878d",
   "metadata": {},
   "outputs": [],
   "source": [
    "model.save(\"plant_model.keras\")"
   ]
  },
  {
   "cell_type": "code",
   "execution_count": 145,
   "id": "e82ad56f",
   "metadata": {},
   "outputs": [
    {
     "name": "stderr",
     "output_type": "stream",
     "text": [
      "/opt/anaconda3/envs/tf_gpu_env/lib/python3.8/site-packages/keras/src/engine/training.py:3000: UserWarning: You are saving your model as an HDF5 file via `model.save()`. This file format is considered legacy. We recommend using instead the native Keras format, e.g. `model.save('my_model.keras')`.\n",
      "  saving_api.save_model(\n"
     ]
    }
   ],
   "source": [
    "model.save(\"plant_model.h5\")"
   ]
  },
  {
   "cell_type": "markdown",
   "id": "6d96cb18",
   "metadata": {},
   "source": [
    "Now if we want to visualize our model we can plot a graph\n",
    "We are going to use values from 10 epochs"
   ]
  },
  {
   "cell_type": "code",
   "execution_count": 115,
   "id": "2b378c92",
   "metadata": {},
   "outputs": [
    {
     "data": {
      "text/plain": [
       "{'loss': [1.4943240880966187,\n",
       "  0.5084289312362671,\n",
       "  0.3342289924621582,\n",
       "  0.24030160903930664,\n",
       "  0.19900605082511902,\n",
       "  0.16290661692619324,\n",
       "  0.13212239742279053,\n",
       "  0.12303513288497925,\n",
       "  0.11447537690401077,\n",
       "  0.10114188492298126],\n",
       " 'accuracy': [0.5637242794036865,\n",
       "  0.842663049697876,\n",
       "  0.8948574066162109,\n",
       "  0.926552414894104,\n",
       "  0.937591552734375,\n",
       "  0.9507504105567932,\n",
       "  0.9603101015090942,\n",
       "  0.9636958241462708,\n",
       "  0.9667828679084778,\n",
       "  0.9725584983825684],\n",
       " 'val_loss': [0.5721582770347595,\n",
       "  0.455007404088974,\n",
       "  0.2822972536087036,\n",
       "  0.22231309115886688,\n",
       "  0.1962442845106125,\n",
       "  0.23054324090480804,\n",
       "  0.1909817010164261,\n",
       "  0.18477322161197662,\n",
       "  0.20425918698310852,\n",
       "  0.1738511472940445],\n",
       " 'val_accuracy': [0.815331220626831,\n",
       "  0.8520942330360413,\n",
       "  0.9127589464187622,\n",
       "  0.930742084980011,\n",
       "  0.937684953212738,\n",
       "  0.9333029985427856,\n",
       "  0.9464489221572876,\n",
       "  0.948952853679657,\n",
       "  0.9466765522956848,\n",
       "  0.9568631649017334]}"
      ]
     },
     "execution_count": 115,
     "metadata": {},
     "output_type": "execute_result"
    }
   ],
   "source": [
    "training_histroy.history"
   ]
  },
  {
   "cell_type": "code",
   "execution_count": 132,
   "id": "c403919f",
   "metadata": {},
   "outputs": [
    {
     "data": {
      "image/png": "[encoded data removed]",
      "text/plain": [
       "<Figure size 640x480 with 1 Axes>"
      ]
     },
     "metadata": {},
     "output_type": "display_data"
    }
   ],
   "source": [
    "epochs = [i for i in range (1,11)]\n",
    "plt.plot(epochs,training_histroy.history['accuracy'],color='red',label = 'Training Accuracy')\n",
    "plt.plot(epochs,training_histroy.history['val_accuracy'],color='blue',label = 'Validation Accuracy')\n",
    "plt.xlabel('epochs')\n",
    "plt.ylabel('Accuracy')\n",
    "plt.title('Virtulization Of Accuracy')\n",
    "plt.legend()\n",
    "plt.show()"
   ]
  },
  {
   "cell_type": "markdown",
   "id": "3ab9e93b",
   "metadata": {},
   "source": [
    "## Some Metrix For Model Evaluation"
   ]
  },
  {
   "cell_type": "code",
   "execution_count": 146,
   "id": "6deaa8d2",
   "metadata": {},
   "outputs": [
    {
     "name": "stdout",
     "output_type": "stream",
     "text": [
      "['Apple___Apple_scab', 'Apple___Black_rot', 'Apple___Cedar_apple_rust', 'Apple___healthy', 'Blueberry___healthy', 'Cherry_(including_sour)___Powdery_mildew', 'Cherry_(including_sour)___healthy', 'Corn_(maize)___Cercospora_leaf_spot Gray_leaf_spot', 'Corn_(maize)___Common_rust_', 'Corn_(maize)___Northern_Leaf_Blight', 'Corn_(maize)___healthy', 'Grape___Black_rot', 'Grape___Esca_(Black_Measles)', 'Grape___Leaf_blight_(Isariopsis_Leaf_Spot)', 'Grape___healthy', 'Orange___Haunglongbing_(Citrus_greening)', 'Peach___Bacterial_spot', 'Peach___healthy', 'Pepper,_bell___Bacterial_spot', 'Pepper,_bell___healthy', 'Potato___Early_blight', 'Potato___Late_blight', 'Potato___healthy', 'Raspberry___healthy', 'Soybean___healthy', 'Squash___Powdery_mildew', 'Strawberry___Leaf_scorch', 'Strawberry___healthy', 'Tomato___Bacterial_spot', 'Tomato___Early_blight', 'Tomato___Late_blight', 'Tomato___Leaf_Mold', 'Tomato___Septoria_leaf_spot', 'Tomato___Spider_mites Two-spotted_spider_mite', 'Tomato___Target_Spot', 'Tomato___Tomato_Yellow_Leaf_Curl_Virus', 'Tomato___Tomato_mosaic_virus', 'Tomato___healthy']\n"
     ]
    }
   ],
   "source": [
    "class_name = validation_set.class_names\n",
    "print(class_name)"
   ]
  },
  {
   "cell_type": "code",
   "execution_count": 133,
   "id": "e55f14a8",
   "metadata": {},
   "outputs": [
    {
     "name": "stdout",
     "output_type": "stream",
     "text": [
      "Found 17572 files belonging to 38 classes.\n"
     ]
    }
   ],
   "source": [
    "test_set = tf.keras.utils.image_dataset_from_directory(\n",
    "    'valid',\n",
    "    labels=\"inferred\",\n",
    "    label_mode=\"categorical\",\n",
    "    class_names=None,\n",
    "    color_mode=\"rgb\",\n",
    "    batch_size=32,\n",
    "    image_size=(128, 128),\n",
    "    shuffle=False,\n",
    "    seed=None,\n",
    "    validation_split=None,\n",
    "    subset=None,\n",
    "    interpolation=\"bilinear\",\n",
    "    follow_links=False,\n",
    "    crop_to_aspect_ratio=False,\n",
    ")"
   ]
  },
  {
   "cell_type": "code",
   "execution_count": 134,
   "id": "1b969974",
   "metadata": {},
   "outputs": [
    {
     "name": "stdout",
     "output_type": "stream",
     "text": [
      "550/550 [==============================] - 20s 35ms/step\n"
     ]
    },
    {
     "data": {
      "text/plain": [
       "(array([[1.0000000e+00, 2.8130365e-13, 8.6020679e-18, ..., 7.3948998e-28,\n",
       "         1.1683883e-28, 1.4398387e-25],\n",
       "        [9.9999976e-01, 2.1736403e-07, 3.5967988e-15, ..., 5.0152315e-23,\n",
       "         5.8952920e-23, 4.0215789e-21],\n",
       "        [1.0000000e+00, 9.6807237e-17, 1.3268215e-17, ..., 7.0615766e-33,\n",
       "         3.9126681e-30, 1.4392928e-28],\n",
       "        ...,\n",
       "        [7.4654963e-13, 2.6926633e-15, 3.0043704e-11, ..., 1.4406041e-13,\n",
       "         8.1807363e-16, 9.9991119e-01],\n",
       "        [8.1160821e-11, 3.1224684e-16, 1.3546511e-10, ..., 3.7567434e-09,\n",
       "         1.4214311e-14, 9.9999833e-01],\n",
       "        [1.9978614e-23, 6.3433043e-24, 2.2549305e-20, ..., 8.5486222e-24,\n",
       "         1.7116646e-18, 1.0000000e+00]], dtype=float32),\n",
       " (17572, 38))"
      ]
     },
     "execution_count": 134,
     "metadata": {},
     "output_type": "execute_result"
    }
   ],
   "source": [
    "y_pred = model.predict(test_set)\n",
    "y_pred,y_pred.shape"
   ]
  },
  {
   "cell_type": "code",
   "execution_count": 135,
   "id": "55a56abf",
   "metadata": {},
   "outputs": [
    {
     "name": "stdout",
     "output_type": "stream",
     "text": [
      "tf.Tensor([ 0  0  0 ... 37 37 37], shape=(17572,), dtype=int64)\n"
     ]
    }
   ],
   "source": [
    "\n",
    "# Find the index of the largest element in each row\n",
    "largest_indices = tf.argmax(y_pred, axis=1)\n",
    "\n",
    "print(largest_indices)"
   ]
  },
  {
   "cell_type": "code",
   "execution_count": 136,
   "id": "672a666f",
   "metadata": {},
   "outputs": [
    {
     "data": {
      "text/plain": [
       "<tf.Tensor: shape=(17572, 38), dtype=float32, numpy=\n",
       "array([[1., 0., 0., ..., 0., 0., 0.],\n",
       "       [1., 0., 0., ..., 0., 0., 0.],\n",
       "       [1., 0., 0., ..., 0., 0., 0.],\n",
       "       ...,\n",
       "       [0., 0., 0., ..., 0., 0., 1.],\n",
       "       [0., 0., 0., ..., 0., 0., 1.],\n",
       "       [0., 0., 0., ..., 0., 0., 1.]], dtype=float32)>"
      ]
     },
     "execution_count": 136,
     "metadata": {},
     "output_type": "execute_result"
    }
   ],
   "source": [
    "true_categories = tf.concat([y for x,y in test_set],axis=0)\n",
    "true_categories"
   ]
  },
  {
   "cell_type": "code",
   "execution_count": 141,
   "id": "34e317e5",
   "metadata": {},
   "outputs": [
    {
     "data": {
      "image/png": "[encoded data removed]",
      "text/plain": [
       "<Figure size 1000x800 with 2 Axes>"
      ]
     },
     "metadata": {},
     "output_type": "display_data"
    }
   ],
   "source": [
    "from sklearn.metrics import confusion_matrix\n",
    "import seaborn as sns\n",
    "\n",
    "# Convert predicted probabilities to class indices\n",
    "y_pred_indices = np.argmax(y_pred, axis=1)\n",
    "# Convert true categories tensor to numpy array and get class indices\n",
    "true_categories_indices = np.argmax(true_categories.numpy(), axis=1)\n",
    "\n",
    "\n",
    "# Compute the confusion matrix\n",
    "cm = confusion_matrix(true_categories_indices, y_pred_indices)\n",
    "\n",
    "# Plot the confusion matrix\n",
    "plt.figure(figsize=(10, 8))\n",
    "sns.heatmap(cm, annot=True, fmt='d', cmap='Blues', xticklabels=np.unique(true_categories_indices), yticklabels=np.unique(true_categories_indices))\n",
    "plt.xlabel('Predicted')\n",
    "plt.ylabel('True')\n",
    "plt.title('Confusion Matrix')\n",
    "plt.show()"
   ]
  },
  {
   "cell_type": "code",
   "execution_count": 142,
   "id": "90682eda",
   "metadata": {},
   "outputs": [
    {
     "name": "stdout",
     "output_type": "stream",
     "text": [
      "Classification Report:\n",
      "               precision    recall  f1-score   support\n",
      "\n",
      "           0       0.96      0.97      0.97       504\n",
      "           1       0.99      0.97      0.98       497\n",
      "           2       0.93      0.99      0.96       440\n",
      "           3       0.95      0.94      0.95       502\n",
      "           4       0.98      0.96      0.97       454\n",
      "           5       0.95      0.97      0.96       421\n",
      "           6       0.98      0.98      0.98       456\n",
      "           7       0.91      0.90      0.90       410\n",
      "           8       0.99      0.99      0.99       477\n",
      "           9       0.91      0.96      0.94       477\n",
      "          10       1.00      1.00      1.00       465\n",
      "          11       0.99      0.92      0.95       472\n",
      "          12       0.94      1.00      0.97       480\n",
      "          13       0.99      0.99      0.99       430\n",
      "          14       1.00      0.99      0.99       423\n",
      "          15       0.98      0.98      0.98       503\n",
      "          16       0.89      0.98      0.93       459\n",
      "          17       0.98      0.95      0.97       432\n",
      "          18       0.94      0.95      0.95       478\n",
      "          19       0.99      0.90      0.94       497\n",
      "          20       0.99      0.99      0.99       485\n",
      "          21       0.97      0.95      0.96       485\n",
      "          22       0.98      0.96      0.97       456\n",
      "          23       0.94      0.99      0.96       445\n",
      "          24       0.95      0.99      0.97       505\n",
      "          25       1.00      0.98      0.99       434\n",
      "          26       0.98      0.98      0.98       444\n",
      "          27       0.99      0.96      0.98       456\n",
      "          28       0.98      0.88      0.93       425\n",
      "          29       0.89      0.83      0.86       480\n",
      "          30       0.83      0.92      0.87       463\n",
      "          31       0.98      0.93      0.96       470\n",
      "          32       0.92      0.83      0.87       436\n",
      "          33       0.96      0.94      0.95       435\n",
      "          34       0.85      0.96      0.90       457\n",
      "          35       0.98      0.99      0.99       490\n",
      "          36       0.99      0.99      0.99       448\n",
      "          37       0.98      0.98      0.98       481\n",
      "\n",
      "    accuracy                           0.96     17572\n",
      "   macro avg       0.96      0.96      0.96     17572\n",
      "weighted avg       0.96      0.96      0.96     17572\n",
      "\n"
     ]
    }
   ],
   "source": [
    "from sklearn.metrics import confusion_matrix, classification_report\n",
    "# Compute classification report\n",
    "report = classification_report(true_categories_indices, y_pred_indices, target_names=[str(i) for i in range(38)])\n",
    "\n",
    "# Print classification report\n",
    "print(\"Classification Report:\\n\", report)\n"
   ]
  },
  {
   "cell_type": "code",
   "execution_count": null,
   "id": "61463f36",
   "metadata": {},
   "outputs": [],
   "source": []
  }
 ],
 "metadata": {
  "kernelspec": {
   "display_name": "Python 3 (ipykernel)",
   "language": "python",
   "name": "python3"
  },
  "language_info": {
   "codemirror_mode": {
    "name": "ipython",
    "version": 3
   },
   "file_extension": ".py",
   "mimetype": "text/x-python",
   "name": "python",
   "nbconvert_exporter": "python",
   "pygments_lexer": "ipython3",
   "version": "3.8.18"
  }
 },
 "nbformat": 4,
 "nbformat_minor": 5
}
